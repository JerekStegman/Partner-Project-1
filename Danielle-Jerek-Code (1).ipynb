{
 "cells": [
  {
   "cell_type": "code",
   "execution_count": 1,
   "metadata": {},
   "outputs": [
    {
     "name": "stdin",
     "output_type": "stream",
     "text": [
      "What is your name Danielle\n"
     ]
    },
    {
     "name": "stdout",
     "output_type": "stream",
     "text": [
      "Hey how are ya,  Danielle nice seeing ya today!\n"
     ]
    },
    {
     "name": "stdin",
     "output_type": "stream",
     "text": [
      "Please enter an interger between 1-3 1\n"
     ]
    },
    {
     "name": "stdout",
     "output_type": "stream",
     "text": [
      "You are a winner you chose number 1 woohoo!\n"
     ]
    }
   ],
   "source": [
    "name = input(\"What is your name\")\n",
    "print(\"Hey how are ya, \", name, \"nice seeing ya today!\")\n",
    "\n",
    "choice = input(\"Please enter an interger between 1-3\")\n",
    "\n",
    "choice = int(choice)\n",
    "\n",
    "if choice == 1:\n",
    "    print(\"You are a winner you chose number 1 woohoo!\")\n",
    "elif choice == 2:\n",
    "    print(\"You wish you choose number one huh, this is a loosing number choice :<\")\n",
    "elif choice == 3:\n",
    "    print(\"This was a good pick! Just not a winner lol. \")\n",
    "else: \n",
    "    print(\"wow you don't know your numbers aye\")\n",
    "    "
   ]
  },
  {
   "cell_type": "code",
   "execution_count": null,
   "metadata": {},
   "outputs": [],
   "source": []
  }
 ],
 "metadata": {
  "kernelspec": {
   "display_name": "Python 3",
   "language": "python",
   "name": "python3"
  },
  "language_info": {
   "codemirror_mode": {
    "name": "ipython",
    "version": 3
   },
   "file_extension": ".py",
   "mimetype": "text/x-python",
   "name": "python",
   "nbconvert_exporter": "python",
   "pygments_lexer": "ipython3",
   "version": "3.8.3"
  }
 },
 "nbformat": 4,
 "nbformat_minor": 4
}
